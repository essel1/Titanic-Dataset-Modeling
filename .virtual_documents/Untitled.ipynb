import numpy as np
import pandas as pd
import matplotlib.pyplot as plt
import torch
import torch.nn as nn
import torch.nn.functional as F


# import matplotlib
# matplotlib.use('Agg')
%matplotlib inline


import os, psutil


process = psutil.Process(os.getpid())
print(f"Memory used: {process.memory_info().rss / 1e6} MB")





train = pd.read_csv("./data/train.csv")
test = pd.read_csv("./data/test.csv")


train.head(5)


train = train.set_index("PassengerId")





numeric = [ var for var in train.columns if train[var].dtype != "O"]
obj = [var for var in train.columns if train[var].dtype == "O"]


print(len(numeric), len(obj))


numeric


obj


train.info()








train.isnull().sum()





train["Embarked"].value_counts()


train = train.dropna( subset = ["Embarked"], axis = 0)


train = train.fillna({"Cabin":"None"})


train.isnull().sum()





train[numeric].describe()


train[numeric].info()











# for col in numeric:
#     plt.figure(figsize=(4,2))
#     plt.hist(train[col].dropna(), bins=50, edgecolor="black")
#     plt.title(col)
#     plt.xlabel(col)
#     plt.ylabel("Frequency")
#     plt.show()


from sklearn.impute import SimpleImputer


imputer = SimpleImputer(strategy= "mean")
train["Age"] = imputer.fit_transform(train["Age"].values.reshape(-1,1))[:,0]


plt.figure(figsize=(8,6))
plt.hist(train["Age"], edgecolor="black", bins=50)
plt.title("Age")
plt.xlabel("Age")
plt.ylabel("frequency")
plt.show()





from sklearn.preprocessing import MinMaxScaler, StandardScaler


train["Fare"] = np.log1p(train["Fare"])


scaler = StandardScaler()
train[["Age", "Fare"]] = scaler.fit_transform(train[["Age","Fare"]])


minmax = MinMaxScaler()
train[["SibSp","Parch"]] = minmax.fit_transform(train[["SibSp","Parch"]])


for col in numeric:
    plt.figure(figsize=(4,2))
    plt.hist(train[col].dropna(), bins=50, edgecolor="black")
    plt.title(col)
    plt.xlabel(col)
    plt.ylabel("Frequency")
    plt.show()





categorical = ["Survived", "Pclass"]
numeric = list(set(numeric) - set(categorical))
numeric





train[obj].info()


train["Ticket"].value_counts()


train["Cabin"].value_counts()



