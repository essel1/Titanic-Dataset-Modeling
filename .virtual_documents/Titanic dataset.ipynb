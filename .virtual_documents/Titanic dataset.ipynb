!pip install torch_frame


!pip install tensorboard


import numpy as np
import pandas as pd
import torch
import torch.nn as nn
import torch.nn.functional as F
import matplotlib.pyplot as plt





train = pd.read_csv("./data/train.csv")
test = pd.read_csv("./data/test.csv")


train.head(5)


train_y = train["Survived"]
train_x = train.drop(["Survived"], axis =1)
train_x.head(5)





# from torch.utils.data import TensorDataset
# dataset = TensorDataset(input, label)





train_x.info()


num_features = [feature for feature in train.columns if train[feature].dtype != "O"]
num_features


num_features.remove("PassengerId")
num_features


object_features = [feature for feature in train.columns if train[feature].dtype == "O"]
object_features


train["Cabin"].value_counts()


train["Embarked"].value_counts()


train["Ticket"].value_counts()


train.set_index("PassengerId")





train[num_features].head(5)


train[num_features].info()


train["Age"].value_counts()


# train.hist(bins=50, figsize=(8,6))
# plt.show()


train[num_features].describe()


corr_matrix = train[num_features].corr()
corr_matrix["Survived"]


num_features.remove("Survived")


from sklearn.experimental import enable_iterative_imputer
from sklearn.impute import IterativeImputer
simple_imputer = IterativeImputer(max_iter=10, random_state = 42)
simple_imputer.fit(train[list(set(num_features)-set(["Fare"]))])
train_num_imputed = simple_imputer.transform(train[list(set(num_features)-set(["Fare"]))])
print(train_num_imputed)


num_features


train_num_df = pd.DataFrame(train_num_imputed, columns =list(set(num_features)-set(["Fare"])), index=train['PassengerId'])
train_num_df.head(5)


train_num_df.info()


train_num_df.hist(bins=50, figsize=(8,6))
plt.show()


train[num_features].hist(bins=50, figsize=(8,6))


corr_matrix["Age"]





num_features


input_age = train[num_features]
input_age = input_age.dropna(subset=["Age"], axis = 0)
age = input_age["Age"]
input_age = input_age.drop(["Age"], axis = 1)
input_age.head(5)


from sklearn.preprocessing import MinMaxScaler
from sklearn.compose import ColumnTransformer

scaler = MinMaxScaler()
selected_scaler = ColumnTransformer([
    ("min_max", scaler, ["Fare"])
], remainder="passthrough").set_output(transform="pandas")
input_age = selected_scaler.fit_transform(input_age)
input_age


input_age.hist(figsize=(8,6))


from sklearn.model_selection import train_test_split

train_age_x, test_age_x, train_age_y, test_age_y = train_test_split(input_age, train["Age"].dropna(), test_size = 0.2, random_state=42)
print(len(train_age_x))
print(len(test_age_x))



from sklearn.ensemble import RandomForestRegressor
from sklearn.metrics import mean_squared_error as mse

random_forest = RandomForestRegressor()
random_forest.fit(train_age_x, train_age_y)
pred = random_forest.predict(test_age_x)

error = mse(pred,test_age_y)
error




